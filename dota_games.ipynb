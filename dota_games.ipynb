{
 "cells": [
  {
   "cell_type": "code",
   "execution_count": 1,
   "metadata": {},
   "outputs": [],
   "source": [
    "import requests\n",
    "import pandas as pd\n",
    "import json\n",
    "import pprint\n",
    "import matplotlib.pyplot as plt\n",
    "import numpy as np\n",
    "import datetime\n",
    "from scipy.stats import ttest_ind"
   ]
  },
  {
   "cell_type": "markdown",
   "metadata": {},
   "source": [
    "## Get Data"
   ]
  },
  {
   "cell_type": "code",
   "execution_count": 2,
   "metadata": {},
   "outputs": [],
   "source": [
    "ID = 262237932 # Steam ID3, https://www.steamidfinder.com/\n",
    "r = requests.get(\"https://api.opendota.com/api/players/{}/matches\".format(ID))"
   ]
  },
  {
   "cell_type": "code",
   "execution_count": 3,
   "metadata": {},
   "outputs": [],
   "source": [
    "matches = json.loads(r.text)"
   ]
  },
  {
   "cell_type": "code",
   "execution_count": 4,
   "metadata": {},
   "outputs": [],
   "source": [
    "data = pd.DataFrame(matches)"
   ]
  },
  {
   "cell_type": "code",
   "execution_count": 5,
   "metadata": {},
   "outputs": [
    {
     "name": "stdout",
     "output_type": "stream",
     "text": [
      "<class 'pandas.core.frame.DataFrame'>\n",
      "RangeIndex: 1177 entries, 0 to 1176\n",
      "Data columns (total 15 columns):\n",
      " #   Column         Non-Null Count  Dtype  \n",
      "---  ------         --------------  -----  \n",
      " 0   match_id       1177 non-null   int64  \n",
      " 1   player_slot    1177 non-null   int64  \n",
      " 2   radiant_win    1177 non-null   bool   \n",
      " 3   duration       1177 non-null   int64  \n",
      " 4   game_mode      1177 non-null   int64  \n",
      " 5   lobby_type     1177 non-null   int64  \n",
      " 6   hero_id        1177 non-null   int64  \n",
      " 7   start_time     1177 non-null   int64  \n",
      " 8   version        79 non-null     float64\n",
      " 9   kills          1177 non-null   int64  \n",
      " 10  deaths         1177 non-null   int64  \n",
      " 11  assists        1177 non-null   int64  \n",
      " 12  skill          520 non-null    float64\n",
      " 13  leaver_status  1177 non-null   int64  \n",
      " 14  party_size     244 non-null    float64\n",
      "dtypes: bool(1), float64(3), int64(11)\n",
      "memory usage: 130.0 KB\n"
     ]
    }
   ],
   "source": [
    "data.info()"
   ]
  },
  {
   "cell_type": "code",
   "execution_count": 6,
   "metadata": {},
   "outputs": [
    {
     "data": {
      "text/html": [
       "<div>\n",
       "<style scoped>\n",
       "    .dataframe tbody tr th:only-of-type {\n",
       "        vertical-align: middle;\n",
       "    }\n",
       "\n",
       "    .dataframe tbody tr th {\n",
       "        vertical-align: top;\n",
       "    }\n",
       "\n",
       "    .dataframe thead th {\n",
       "        text-align: right;\n",
       "    }\n",
       "</style>\n",
       "<table border=\"1\" class=\"dataframe\">\n",
       "  <thead>\n",
       "    <tr style=\"text-align: right;\">\n",
       "      <th></th>\n",
       "      <th>match_id</th>\n",
       "      <th>player_slot</th>\n",
       "      <th>radiant_win</th>\n",
       "      <th>duration</th>\n",
       "      <th>game_mode</th>\n",
       "      <th>lobby_type</th>\n",
       "      <th>hero_id</th>\n",
       "      <th>start_time</th>\n",
       "      <th>version</th>\n",
       "      <th>kills</th>\n",
       "      <th>deaths</th>\n",
       "      <th>assists</th>\n",
       "      <th>skill</th>\n",
       "      <th>leaver_status</th>\n",
       "      <th>party_size</th>\n",
       "    </tr>\n",
       "  </thead>\n",
       "  <tbody>\n",
       "    <tr>\n",
       "      <th>0</th>\n",
       "      <td>6019979286</td>\n",
       "      <td>130</td>\n",
       "      <td>False</td>\n",
       "      <td>2394</td>\n",
       "      <td>22</td>\n",
       "      <td>0</td>\n",
       "      <td>35</td>\n",
       "      <td>1622456466</td>\n",
       "      <td>NaN</td>\n",
       "      <td>8</td>\n",
       "      <td>9</td>\n",
       "      <td>15</td>\n",
       "      <td>1.0</td>\n",
       "      <td>0</td>\n",
       "      <td>1.0</td>\n",
       "    </tr>\n",
       "    <tr>\n",
       "      <th>1</th>\n",
       "      <td>6019272240</td>\n",
       "      <td>0</td>\n",
       "      <td>True</td>\n",
       "      <td>2620</td>\n",
       "      <td>22</td>\n",
       "      <td>0</td>\n",
       "      <td>86</td>\n",
       "      <td>1622404328</td>\n",
       "      <td>NaN</td>\n",
       "      <td>8</td>\n",
       "      <td>9</td>\n",
       "      <td>25</td>\n",
       "      <td>1.0</td>\n",
       "      <td>0</td>\n",
       "      <td>1.0</td>\n",
       "    </tr>\n",
       "    <tr>\n",
       "      <th>2</th>\n",
       "      <td>6018438663</td>\n",
       "      <td>129</td>\n",
       "      <td>True</td>\n",
       "      <td>3048</td>\n",
       "      <td>22</td>\n",
       "      <td>0</td>\n",
       "      <td>62</td>\n",
       "      <td>1622373025</td>\n",
       "      <td>NaN</td>\n",
       "      <td>3</td>\n",
       "      <td>15</td>\n",
       "      <td>18</td>\n",
       "      <td>1.0</td>\n",
       "      <td>0</td>\n",
       "      <td>1.0</td>\n",
       "    </tr>\n",
       "    <tr>\n",
       "      <th>3</th>\n",
       "      <td>6014955452</td>\n",
       "      <td>3</td>\n",
       "      <td>True</td>\n",
       "      <td>2462</td>\n",
       "      <td>22</td>\n",
       "      <td>0</td>\n",
       "      <td>105</td>\n",
       "      <td>1622200484</td>\n",
       "      <td>NaN</td>\n",
       "      <td>6</td>\n",
       "      <td>6</td>\n",
       "      <td>11</td>\n",
       "      <td>NaN</td>\n",
       "      <td>0</td>\n",
       "      <td>1.0</td>\n",
       "    </tr>\n",
       "    <tr>\n",
       "      <th>4</th>\n",
       "      <td>6014833305</td>\n",
       "      <td>128</td>\n",
       "      <td>True</td>\n",
       "      <td>2750</td>\n",
       "      <td>22</td>\n",
       "      <td>0</td>\n",
       "      <td>105</td>\n",
       "      <td>1622193893</td>\n",
       "      <td>NaN</td>\n",
       "      <td>10</td>\n",
       "      <td>9</td>\n",
       "      <td>7</td>\n",
       "      <td>1.0</td>\n",
       "      <td>0</td>\n",
       "      <td>1.0</td>\n",
       "    </tr>\n",
       "  </tbody>\n",
       "</table>\n",
       "</div>"
      ],
      "text/plain": [
       "     match_id  player_slot  radiant_win  duration  game_mode  lobby_type  \\\n",
       "0  6019979286          130        False      2394         22           0   \n",
       "1  6019272240            0         True      2620         22           0   \n",
       "2  6018438663          129         True      3048         22           0   \n",
       "3  6014955452            3         True      2462         22           0   \n",
       "4  6014833305          128         True      2750         22           0   \n",
       "\n",
       "   hero_id  start_time  version  kills  deaths  assists  skill  leaver_status  \\\n",
       "0       35  1622456466      NaN      8       9       15    1.0              0   \n",
       "1       86  1622404328      NaN      8       9       25    1.0              0   \n",
       "2       62  1622373025      NaN      3      15       18    1.0              0   \n",
       "3      105  1622200484      NaN      6       6       11    NaN              0   \n",
       "4      105  1622193893      NaN     10       9        7    1.0              0   \n",
       "\n",
       "   party_size  \n",
       "0         1.0  \n",
       "1         1.0  \n",
       "2         1.0  \n",
       "3         1.0  \n",
       "4         1.0  "
      ]
     },
     "execution_count": 6,
     "metadata": {},
     "output_type": "execute_result"
    }
   ],
   "source": [
    "data.head()"
   ]
  },
  {
   "cell_type": "markdown",
   "metadata": {},
   "source": [
    "## Exploratory Data Analysis"
   ]
  },
  {
   "cell_type": "code",
   "execution_count": 7,
   "metadata": {},
   "outputs": [
    {
     "data": {
      "text/plain": [
       "[0, 1, 2, 3, 4, 128, 129, 130, 131, 132]"
      ]
     },
     "execution_count": 7,
     "metadata": {},
     "output_type": "execute_result"
    }
   ],
   "source": [
    "sorted(data.player_slot.unique()) # 0-127 - Radiant, 128-255 - Dire"
   ]
  },
  {
   "cell_type": "code",
   "execution_count": 8,
   "metadata": {},
   "outputs": [],
   "source": [
    "data['radiant_team'] = data.player_slot.apply(lambda x: True if x in range(128) else False)"
   ]
  },
  {
   "cell_type": "code",
   "execution_count": 9,
   "metadata": {},
   "outputs": [
    {
     "data": {
      "text/plain": [
       "False    597\n",
       "True     580\n",
       "Name: radiant_team, dtype: int64"
      ]
     },
     "execution_count": 9,
     "metadata": {},
     "output_type": "execute_result"
    }
   ],
   "source": [
    "data.radiant_team.value_counts() # за Dire команду игр больше, но разница небольшая"
   ]
  },
  {
   "cell_type": "code",
   "execution_count": 10,
   "metadata": {},
   "outputs": [
    {
     "data": {
      "text/plain": [
       "array([22,  4,  3,  2,  5,  1, 12], dtype=int64)"
      ]
     },
     "execution_count": 10,
     "metadata": {},
     "output_type": "execute_result"
    }
   ],
   "source": [
    "data.game_mode.unique() # расшифровка: https://github.com/odota/dotaconstants/blob/master/json/game_mode.json"
   ]
  },
  {
   "cell_type": "code",
   "execution_count": 11,
   "metadata": {},
   "outputs": [
    {
     "data": {
      "text/plain": [
       "22    763\n",
       "1     283\n",
       "4      92\n",
       "5      18\n",
       "3      13\n",
       "2       5\n",
       "12      3\n",
       "Name: game_mode, dtype: int64"
      ]
     },
     "execution_count": 11,
     "metadata": {},
     "output_type": "execute_result"
    }
   ],
   "source": [
    "data.game_mode.value_counts() # больше всего игр сыграно в all_draft (22) и all_pick (1)"
   ]
  },
  {
   "cell_type": "code",
   "execution_count": 12,
   "metadata": {},
   "outputs": [
    {
     "data": {
      "image/png": "[encoded data removed]",
      "text/plain": [
       "<Figure size 432x288 with 1 Axes>"
      ]
     },
     "metadata": {
      "needs_background": "light"
     },
     "output_type": "display_data"
    }
   ],
   "source": [
    "plt.hist(data.game_mode.astype(str),\n",
    "         bins=np.arange(len(data.game_mode.unique()) + 1) - 0.5) # чтобы метки стояли в центре\n",
    "plt.title('Распределение количества игр по режимам')\n",
    "plt.xlabel('Игровой режим')\n",
    "plt.ylabel('Количество игр')\n",
    "plt.show()"
   ]
  },
  {
   "cell_type": "code",
   "execution_count": 13,
   "metadata": {},
   "outputs": [
    {
     "data": {
      "text/plain": [
       "array([0, 7, 9], dtype=int64)"
      ]
     },
     "execution_count": 13,
     "metadata": {},
     "output_type": "execute_result"
    }
   ],
   "source": [
    "data.lobby_type.unique() # 0 - normal, 7 - ranked, 9 - battle cup"
   ]
  },
  {
   "cell_type": "code",
   "execution_count": 14,
   "metadata": {},
   "outputs": [],
   "source": [
    "data['lobby_type_str'] = data.lobby_type.apply(lambda x: 'normal' if x == 0 else ('ranked' if x == 7 else 'battle_cup'))"
   ]
  },
  {
   "cell_type": "code",
   "execution_count": 15,
   "metadata": {},
   "outputs": [
    {
     "data": {
      "text/plain": [
       "normal        1033\n",
       "ranked         143\n",
       "battle_cup       1\n",
       "Name: lobby_type_str, dtype: int64"
      ]
     },
     "execution_count": 15,
     "metadata": {},
     "output_type": "execute_result"
    }
   ],
   "source": [
    "data.lobby_type_str.value_counts()"
   ]
  },
  {
   "cell_type": "code",
   "execution_count": 16,
   "metadata": {},
   "outputs": [
    {
     "data": {
      "image/png": "[encoded data removed]",
      "text/plain": [
       "<Figure size 432x288 with 1 Axes>"
      ]
     },
     "metadata": {
      "needs_background": "light"
     },
     "output_type": "display_data"
    }
   ],
   "source": [
    "plt.hist(data.lobby_type_str.astype(str),\n",
    "         bins=np.arange(len(data.lobby_type_str.unique()) + 1) - 0.5) # чтобы метки стояли в центре\n",
    "plt.title('Распределение количества игр по лообби')\n",
    "plt.xlabel('Игровой режим')\n",
    "plt.ylabel('Количество игр')\n",
    "plt.show()"
   ]
  },
  {
   "cell_type": "code",
   "execution_count": 17,
   "metadata": {},
   "outputs": [
    {
     "data": {
      "text/plain": [
       "array([ 1.,  2.,  4.,  3.,  5., nan])"
      ]
     },
     "execution_count": 17,
     "metadata": {},
     "output_type": "execute_result"
    }
   ],
   "source": [
    "data.party_size.unique()"
   ]
  },
  {
   "cell_type": "code",
   "execution_count": 18,
   "metadata": {},
   "outputs": [
    {
     "data": {
      "text/plain": [
       "NaN    933\n",
       "1.0    111\n",
       "2.0     60\n",
       "3.0     30\n",
       "5.0     25\n",
       "4.0     18\n",
       "Name: party_size, dtype: int64"
      ]
     },
     "execution_count": 18,
     "metadata": {},
     "output_type": "execute_result"
    }
   ],
   "source": [
    "data.party_size.value_counts(dropna=False)\n",
    "# очень много игр имеют nan, возможно, в какой-то момент статистика не собиралась"
   ]
  },
  {
   "cell_type": "code",
   "execution_count": 19,
   "metadata": {},
   "outputs": [
    {
     "data": {
      "text/html": [
       "<div>\n",
       "<style scoped>\n",
       "    .dataframe tbody tr th:only-of-type {\n",
       "        vertical-align: middle;\n",
       "    }\n",
       "\n",
       "    .dataframe tbody tr th {\n",
       "        vertical-align: top;\n",
       "    }\n",
       "\n",
       "    .dataframe thead th {\n",
       "        text-align: right;\n",
       "    }\n",
       "</style>\n",
       "<table border=\"1\" class=\"dataframe\">\n",
       "  <thead>\n",
       "    <tr style=\"text-align: right;\">\n",
       "      <th></th>\n",
       "      <th>match_id</th>\n",
       "      <th>player_slot</th>\n",
       "      <th>radiant_win</th>\n",
       "      <th>duration</th>\n",
       "      <th>game_mode</th>\n",
       "      <th>lobby_type</th>\n",
       "      <th>hero_id</th>\n",
       "      <th>start_time</th>\n",
       "      <th>version</th>\n",
       "      <th>kills</th>\n",
       "      <th>deaths</th>\n",
       "      <th>assists</th>\n",
       "      <th>skill</th>\n",
       "      <th>leaver_status</th>\n",
       "      <th>party_size</th>\n",
       "      <th>radiant_team</th>\n",
       "      <th>lobby_type_str</th>\n",
       "    </tr>\n",
       "  </thead>\n",
       "  <tbody>\n",
       "    <tr>\n",
       "      <th>1162</th>\n",
       "      <td>1544435091</td>\n",
       "      <td>132</td>\n",
       "      <td>True</td>\n",
       "      <td>4775</td>\n",
       "      <td>1</td>\n",
       "      <td>0</td>\n",
       "      <td>105</td>\n",
       "      <td>1434028073</td>\n",
       "      <td>NaN</td>\n",
       "      <td>12</td>\n",
       "      <td>13</td>\n",
       "      <td>8</td>\n",
       "      <td>NaN</td>\n",
       "      <td>0</td>\n",
       "      <td>NaN</td>\n",
       "      <td>False</td>\n",
       "      <td>normal</td>\n",
       "    </tr>\n",
       "    <tr>\n",
       "      <th>1163</th>\n",
       "      <td>1543223046</td>\n",
       "      <td>131</td>\n",
       "      <td>False</td>\n",
       "      <td>3360</td>\n",
       "      <td>1</td>\n",
       "      <td>0</td>\n",
       "      <td>105</td>\n",
       "      <td>1433987687</td>\n",
       "      <td>NaN</td>\n",
       "      <td>15</td>\n",
       "      <td>7</td>\n",
       "      <td>9</td>\n",
       "      <td>NaN</td>\n",
       "      <td>0</td>\n",
       "      <td>NaN</td>\n",
       "      <td>False</td>\n",
       "      <td>normal</td>\n",
       "    </tr>\n",
       "    <tr>\n",
       "      <th>1164</th>\n",
       "      <td>1543166734</td>\n",
       "      <td>4</td>\n",
       "      <td>True</td>\n",
       "      <td>2481</td>\n",
       "      <td>1</td>\n",
       "      <td>0</td>\n",
       "      <td>105</td>\n",
       "      <td>1433984165</td>\n",
       "      <td>NaN</td>\n",
       "      <td>10</td>\n",
       "      <td>5</td>\n",
       "      <td>4</td>\n",
       "      <td>NaN</td>\n",
       "      <td>0</td>\n",
       "      <td>NaN</td>\n",
       "      <td>True</td>\n",
       "      <td>normal</td>\n",
       "    </tr>\n",
       "    <tr>\n",
       "      <th>1165</th>\n",
       "      <td>1543039899</td>\n",
       "      <td>130</td>\n",
       "      <td>False</td>\n",
       "      <td>3289</td>\n",
       "      <td>1</td>\n",
       "      <td>0</td>\n",
       "      <td>105</td>\n",
       "      <td>1433974758</td>\n",
       "      <td>NaN</td>\n",
       "      <td>24</td>\n",
       "      <td>9</td>\n",
       "      <td>6</td>\n",
       "      <td>NaN</td>\n",
       "      <td>0</td>\n",
       "      <td>NaN</td>\n",
       "      <td>False</td>\n",
       "      <td>normal</td>\n",
       "    </tr>\n",
       "    <tr>\n",
       "      <th>1166</th>\n",
       "      <td>1541731825</td>\n",
       "      <td>0</td>\n",
       "      <td>False</td>\n",
       "      <td>3156</td>\n",
       "      <td>1</td>\n",
       "      <td>0</td>\n",
       "      <td>5</td>\n",
       "      <td>1433934877</td>\n",
       "      <td>NaN</td>\n",
       "      <td>6</td>\n",
       "      <td>15</td>\n",
       "      <td>12</td>\n",
       "      <td>NaN</td>\n",
       "      <td>0</td>\n",
       "      <td>NaN</td>\n",
       "      <td>True</td>\n",
       "      <td>normal</td>\n",
       "    </tr>\n",
       "    <tr>\n",
       "      <th>1167</th>\n",
       "      <td>1500584675</td>\n",
       "      <td>128</td>\n",
       "      <td>True</td>\n",
       "      <td>3051</td>\n",
       "      <td>1</td>\n",
       "      <td>0</td>\n",
       "      <td>5</td>\n",
       "      <td>1432557151</td>\n",
       "      <td>NaN</td>\n",
       "      <td>6</td>\n",
       "      <td>14</td>\n",
       "      <td>14</td>\n",
       "      <td>NaN</td>\n",
       "      <td>0</td>\n",
       "      <td>NaN</td>\n",
       "      <td>False</td>\n",
       "      <td>normal</td>\n",
       "    </tr>\n",
       "    <tr>\n",
       "      <th>1168</th>\n",
       "      <td>1499161980</td>\n",
       "      <td>130</td>\n",
       "      <td>False</td>\n",
       "      <td>1948</td>\n",
       "      <td>1</td>\n",
       "      <td>0</td>\n",
       "      <td>86</td>\n",
       "      <td>1432495212</td>\n",
       "      <td>NaN</td>\n",
       "      <td>2</td>\n",
       "      <td>7</td>\n",
       "      <td>9</td>\n",
       "      <td>NaN</td>\n",
       "      <td>0</td>\n",
       "      <td>NaN</td>\n",
       "      <td>False</td>\n",
       "      <td>normal</td>\n",
       "    </tr>\n",
       "    <tr>\n",
       "      <th>1169</th>\n",
       "      <td>1487911323</td>\n",
       "      <td>132</td>\n",
       "      <td>False</td>\n",
       "      <td>3230</td>\n",
       "      <td>1</td>\n",
       "      <td>0</td>\n",
       "      <td>59</td>\n",
       "      <td>1432127647</td>\n",
       "      <td>NaN</td>\n",
       "      <td>30</td>\n",
       "      <td>16</td>\n",
       "      <td>15</td>\n",
       "      <td>NaN</td>\n",
       "      <td>0</td>\n",
       "      <td>NaN</td>\n",
       "      <td>False</td>\n",
       "      <td>normal</td>\n",
       "    </tr>\n",
       "    <tr>\n",
       "      <th>1170</th>\n",
       "      <td>1486180811</td>\n",
       "      <td>2</td>\n",
       "      <td>True</td>\n",
       "      <td>1982</td>\n",
       "      <td>1</td>\n",
       "      <td>0</td>\n",
       "      <td>43</td>\n",
       "      <td>1432056478</td>\n",
       "      <td>NaN</td>\n",
       "      <td>5</td>\n",
       "      <td>4</td>\n",
       "      <td>8</td>\n",
       "      <td>NaN</td>\n",
       "      <td>0</td>\n",
       "      <td>NaN</td>\n",
       "      <td>True</td>\n",
       "      <td>normal</td>\n",
       "    </tr>\n",
       "    <tr>\n",
       "      <th>1171</th>\n",
       "      <td>1485983746</td>\n",
       "      <td>131</td>\n",
       "      <td>True</td>\n",
       "      <td>2472</td>\n",
       "      <td>1</td>\n",
       "      <td>0</td>\n",
       "      <td>101</td>\n",
       "      <td>1432050666</td>\n",
       "      <td>NaN</td>\n",
       "      <td>7</td>\n",
       "      <td>7</td>\n",
       "      <td>7</td>\n",
       "      <td>NaN</td>\n",
       "      <td>0</td>\n",
       "      <td>NaN</td>\n",
       "      <td>False</td>\n",
       "      <td>normal</td>\n",
       "    </tr>\n",
       "    <tr>\n",
       "      <th>1172</th>\n",
       "      <td>1483558180</td>\n",
       "      <td>1</td>\n",
       "      <td>True</td>\n",
       "      <td>3292</td>\n",
       "      <td>1</td>\n",
       "      <td>0</td>\n",
       "      <td>28</td>\n",
       "      <td>1431962033</td>\n",
       "      <td>NaN</td>\n",
       "      <td>11</td>\n",
       "      <td>4</td>\n",
       "      <td>25</td>\n",
       "      <td>NaN</td>\n",
       "      <td>0</td>\n",
       "      <td>NaN</td>\n",
       "      <td>True</td>\n",
       "      <td>normal</td>\n",
       "    </tr>\n",
       "    <tr>\n",
       "      <th>1173</th>\n",
       "      <td>1481156851</td>\n",
       "      <td>1</td>\n",
       "      <td>False</td>\n",
       "      <td>3368</td>\n",
       "      <td>1</td>\n",
       "      <td>0</td>\n",
       "      <td>80</td>\n",
       "      <td>1431873410</td>\n",
       "      <td>NaN</td>\n",
       "      <td>0</td>\n",
       "      <td>9</td>\n",
       "      <td>2</td>\n",
       "      <td>NaN</td>\n",
       "      <td>0</td>\n",
       "      <td>NaN</td>\n",
       "      <td>True</td>\n",
       "      <td>normal</td>\n",
       "    </tr>\n",
       "    <tr>\n",
       "      <th>1174</th>\n",
       "      <td>1477755057</td>\n",
       "      <td>129</td>\n",
       "      <td>False</td>\n",
       "      <td>1902</td>\n",
       "      <td>1</td>\n",
       "      <td>0</td>\n",
       "      <td>90</td>\n",
       "      <td>1431779461</td>\n",
       "      <td>NaN</td>\n",
       "      <td>0</td>\n",
       "      <td>8</td>\n",
       "      <td>9</td>\n",
       "      <td>NaN</td>\n",
       "      <td>0</td>\n",
       "      <td>NaN</td>\n",
       "      <td>False</td>\n",
       "      <td>normal</td>\n",
       "    </tr>\n",
       "    <tr>\n",
       "      <th>1175</th>\n",
       "      <td>1475501460</td>\n",
       "      <td>0</td>\n",
       "      <td>True</td>\n",
       "      <td>2519</td>\n",
       "      <td>1</td>\n",
       "      <td>0</td>\n",
       "      <td>40</td>\n",
       "      <td>1431706359</td>\n",
       "      <td>NaN</td>\n",
       "      <td>3</td>\n",
       "      <td>10</td>\n",
       "      <td>16</td>\n",
       "      <td>NaN</td>\n",
       "      <td>0</td>\n",
       "      <td>NaN</td>\n",
       "      <td>True</td>\n",
       "      <td>normal</td>\n",
       "    </tr>\n",
       "    <tr>\n",
       "      <th>1176</th>\n",
       "      <td>1381387634</td>\n",
       "      <td>1</td>\n",
       "      <td>False</td>\n",
       "      <td>2916</td>\n",
       "      <td>4</td>\n",
       "      <td>0</td>\n",
       "      <td>64</td>\n",
       "      <td>1428414587</td>\n",
       "      <td>NaN</td>\n",
       "      <td>2</td>\n",
       "      <td>12</td>\n",
       "      <td>25</td>\n",
       "      <td>NaN</td>\n",
       "      <td>0</td>\n",
       "      <td>NaN</td>\n",
       "      <td>True</td>\n",
       "      <td>normal</td>\n",
       "    </tr>\n",
       "  </tbody>\n",
       "</table>\n",
       "</div>"
      ],
      "text/plain": [
       "        match_id  player_slot  radiant_win  duration  game_mode  lobby_type  \\\n",
       "1162  1544435091          132         True      4775          1           0   \n",
       "1163  1543223046          131        False      3360          1           0   \n",
       "1164  1543166734            4         True      2481          1           0   \n",
       "1165  1543039899          130        False      3289          1           0   \n",
       "1166  1541731825            0        False      3156          1           0   \n",
       "1167  1500584675          128         True      3051          1           0   \n",
       "1168  1499161980          130        False      1948          1           0   \n",
       "1169  1487911323          132        False      3230          1           0   \n",
       "1170  1486180811            2         True      1982          1           0   \n",
       "1171  1485983746          131         True      2472          1           0   \n",
       "1172  1483558180            1         True      3292          1           0   \n",
       "1173  1481156851            1        False      3368          1           0   \n",
       "1174  1477755057          129        False      1902          1           0   \n",
       "1175  1475501460            0         True      2519          1           0   \n",
       "1176  1381387634            1        False      2916          4           0   \n",
       "\n",
       "      hero_id  start_time  version  kills  deaths  assists  skill  \\\n",
       "1162      105  1434028073      NaN     12      13        8    NaN   \n",
       "1163      105  1433987687      NaN     15       7        9    NaN   \n",
       "1164      105  1433984165      NaN     10       5        4    NaN   \n",
       "1165      105  1433974758      NaN     24       9        6    NaN   \n",
       "1166        5  1433934877      NaN      6      15       12    NaN   \n",
       "1167        5  1432557151      NaN      6      14       14    NaN   \n",
       "1168       86  1432495212      NaN      2       7        9    NaN   \n",
       "1169       59  1432127647      NaN     30      16       15    NaN   \n",
       "1170       43  1432056478      NaN      5       4        8    NaN   \n",
       "1171      101  1432050666      NaN      7       7        7    NaN   \n",
       "1172       28  1431962033      NaN     11       4       25    NaN   \n",
       "1173       80  1431873410      NaN      0       9        2    NaN   \n",
       "1174       90  1431779461      NaN      0       8        9    NaN   \n",
       "1175       40  1431706359      NaN      3      10       16    NaN   \n",
       "1176       64  1428414587      NaN      2      12       25    NaN   \n",
       "\n",
       "      leaver_status  party_size  radiant_team lobby_type_str  \n",
       "1162              0         NaN         False         normal  \n",
       "1163              0         NaN         False         normal  \n",
       "1164              0         NaN          True         normal  \n",
       "1165              0         NaN         False         normal  \n",
       "1166              0         NaN          True         normal  \n",
       "1167              0         NaN         False         normal  \n",
       "1168              0         NaN         False         normal  \n",
       "1169              0         NaN         False         normal  \n",
       "1170              0         NaN          True         normal  \n",
       "1171              0         NaN         False         normal  \n",
       "1172              0         NaN          True         normal  \n",
       "1173              0         NaN          True         normal  \n",
       "1174              0         NaN         False         normal  \n",
       "1175              0         NaN          True         normal  \n",
       "1176              0         NaN          True         normal  "
      ]
     },
     "execution_count": 19,
     "metadata": {},
     "output_type": "execute_result"
    }
   ],
   "source": [
    "data[data.party_size.isna()].tail(15)\n",
    "# в основном такие игры в конце датафрейма, а он отсортирован по start_time,\n",
    "# значит на ранних этапах игры такая статистика не велась"
   ]
  },
  {
   "cell_type": "code",
   "execution_count": 20,
   "metadata": {},
   "outputs": [
    {
     "data": {
      "image/png": "[encoded data removed]",
      "text/plain": [
       "<Figure size 432x288 with 1 Axes>"
      ]
     },
     "metadata": {
      "needs_background": "light"
     },
     "output_type": "display_data"
    }
   ],
   "source": [
    "plt.hist(data.party_size.astype(str),\n",
    "         bins=np.arange(len(data.party_size.unique()) + 1) - 0.5) # чтобы метки стояли в центре\n",
    "plt.title('Сколько игр сыграно с друзьями (или соло)')\n",
    "plt.xlabel('Количество игроков в группе')\n",
    "plt.ylabel('Количество игр')\n",
    "plt.show()"
   ]
  },
  {
   "cell_type": "code",
   "execution_count": 21,
   "metadata": {},
   "outputs": [
    {
     "data": {
      "image/png": "[encoded data removed]",
      "text/plain": [
       "<Figure size 432x288 with 1 Axes>"
      ]
     },
     "metadata": {
      "needs_background": "light"
     },
     "output_type": "display_data"
    }
   ],
   "source": [
    "plt.hist(data.duration / 60, bins=25)\n",
    "plt.show()"
   ]
  },
  {
   "cell_type": "markdown",
   "metadata": {},
   "source": [
    "### Выводы (1)\n",
    "- За radiant и dire команды я сыграл почти равное количество игр\n",
    "- Больше всего наиграл в формате all_draft и all_pick\n",
    "- Почти не играю в ranked игры, только обычные\n",
    "- С увеличением числа игроков в моей группе количество игр уменьшается -- проще сыграть одному, чем собираться впятером\n",
    "- В основном игры длятся 40 минут, хотя есть всплеск на 80 минутах"
   ]
  },
  {
   "cell_type": "markdown",
   "metadata": {},
   "source": [
    "## Гипотезы\n",
    "Больше всего мне нравится персонаж Techies (игроки доты меня сейчас возненавидят), поэтому смотреть будем на него. Techies -- такой персонаж, который в конце игры вряд ли сможет помочь выиграть, но и не даст проиграть, в результате чего игры будут затягиваться. Отсюда **первая гипотеза**: игры с Techies будут длиться больше среднего. **Вторая гипотеза** отчасти исходит от игрового сообщества, где бытует мнение, что Techies в конце игры не сможет выиграть. Попробуем проверить, являются ли долгие игры с Techies проигрышными. Ну и напоследок проверим **третью гипотезу** о том, что с другими игроками в группе (то есть при игре с друзьями, а не соло), процент побед будет ниже, чем при игре одному, ведь с командой ллюди часто играют не из-за скилла, а из-за дружеских отношений."
   ]
  },
  {
   "cell_type": "markdown",
   "metadata": {},
   "source": [
    "#### Первая гипотеза"
   ]
  },
  {
   "cell_type": "code",
   "execution_count": 22,
   "metadata": {},
   "outputs": [],
   "source": [
    "data['start_time'] = pd.to_datetime(data['start_time'], unit='s').dt.date\n",
    "year2018 = data[data['start_time'] > datetime.date(2018, 1, 1)]\n",
    "# для проверки первой гипотезы возьмём только последние три года,\n",
    "# так как длительность матча сильно зависит от последних обновлений"
   ]
  },
  {
   "cell_type": "code",
   "execution_count": 23,
   "metadata": {},
   "outputs": [],
   "source": [
    "r2 = requests.get(\"https://api.opendota.com/api/heroes\") # найдём id персонажей\n",
    "heroes = pd.DataFrame(json.loads(r2.text))"
   ]
  },
  {
   "cell_type": "code",
   "execution_count": 24,
   "metadata": {},
   "outputs": [
    {
     "data": {
      "text/html": [
       "<div>\n",
       "<style scoped>\n",
       "    .dataframe tbody tr th:only-of-type {\n",
       "        vertical-align: middle;\n",
       "    }\n",
       "\n",
       "    .dataframe tbody tr th {\n",
       "        vertical-align: top;\n",
       "    }\n",
       "\n",
       "    .dataframe thead th {\n",
       "        text-align: right;\n",
       "    }\n",
       "</style>\n",
       "<table border=\"1\" class=\"dataframe\">\n",
       "  <thead>\n",
       "    <tr style=\"text-align: right;\">\n",
       "      <th></th>\n",
       "      <th>id</th>\n",
       "      <th>name</th>\n",
       "      <th>localized_name</th>\n",
       "      <th>primary_attr</th>\n",
       "      <th>attack_type</th>\n",
       "      <th>roles</th>\n",
       "      <th>legs</th>\n",
       "    </tr>\n",
       "  </thead>\n",
       "  <tbody>\n",
       "    <tr>\n",
       "      <th>103</th>\n",
       "      <td>105</td>\n",
       "      <td>npc_dota_hero_techies</td>\n",
       "      <td>Techies</td>\n",
       "      <td>int</td>\n",
       "      <td>Ranged</td>\n",
       "      <td>[Nuker, Disabler]</td>\n",
       "      <td>6</td>\n",
       "    </tr>\n",
       "  </tbody>\n",
       "</table>\n",
       "</div>"
      ],
      "text/plain": [
       "      id                   name localized_name primary_attr attack_type  \\\n",
       "103  105  npc_dota_hero_techies        Techies          int      Ranged   \n",
       "\n",
       "                 roles  legs  \n",
       "103  [Nuker, Disabler]     6  "
      ]
     },
     "execution_count": 24,
     "metadata": {},
     "output_type": "execute_result"
    }
   ],
   "source": [
    "heroes[heroes['localized_name'] == 'Techies'] # 6 ног - по 2 на каждого гоблина-техника"
   ]
  },
  {
   "cell_type": "code",
   "execution_count": 25,
   "metadata": {},
   "outputs": [],
   "source": [
    "techies = year2018[year2018['hero_id'] == 105]['duration'].values\n",
    "no_techies = year2018[year2018['hero_id'] != 105]['duration'].values"
   ]
  },
  {
   "cell_type": "code",
   "execution_count": 26,
   "metadata": {},
   "outputs": [
    {
     "name": "stdout",
     "output_type": "stream",
     "text": [
      "Игр с Techies: 278\n",
      "Игр без Techies: 354\n"
     ]
    }
   ],
   "source": [
    "print('Игр с Techies:', len(techies))\n",
    "print('Игр без Techies:', len(no_techies))"
   ]
  },
  {
   "cell_type": "code",
   "execution_count": 27,
   "metadata": {},
   "outputs": [
    {
     "name": "stdout",
     "output_type": "stream",
     "text": [
      "Statistics = 2.9856, p-value = 0.0029\n",
      "Гипотеза отклоняется\n"
     ]
    }
   ],
   "source": [
    "stat, p = ttest_ind(techies, no_techies)\n",
    "print('Statistics = %.4f, p-value = %.4f' % (stat, p))\n",
    "\n",
    "alpha = 0.05\n",
    "if p > alpha:\n",
    "    print('Гипотеза принимается')\n",
    "else:\n",
    "    print('Гипотеза отклоняется')"
   ]
  },
  {
   "cell_type": "markdown",
   "metadata": {},
   "source": [
    "#### Вторая гипотеза\n",
    "Что такое *долгие игры*? В нашем случае возьмём как порог 60 минут."
   ]
  },
  {
   "cell_type": "code",
   "execution_count": 28,
   "metadata": {},
   "outputs": [],
   "source": [
    "# создали столбец с победами\n",
    "data['victory'] = 0\n",
    "data.loc[(data['radiant_team'] == True) & (data['radiant_win'] == True), 'victory'] = 1\n",
    "data.loc[(data['radiant_team'] == False) & (data['radiant_win'] == False), 'victory'] = 1"
   ]
  },
  {
   "cell_type": "code",
   "execution_count": 29,
   "metadata": {},
   "outputs": [],
   "source": [
    "long = data[data['duration'] > 60 * 60]"
   ]
  },
  {
   "cell_type": "code",
   "execution_count": 30,
   "metadata": {
    "scrolled": true
   },
   "outputs": [],
   "source": [
    "long_techies = long[long['hero_id'] == 105]\n",
    "long_no_techies = long[long['hero_id'] != 105]"
   ]
  },
  {
   "cell_type": "code",
   "execution_count": 31,
   "metadata": {
    "scrolled": false
   },
   "outputs": [
    {
     "name": "stdout",
     "output_type": "stream",
     "text": [
      "Долгих игр с Techies: 46\n",
      "Долгих игр без Techies: 57\n"
     ]
    }
   ],
   "source": [
    "print('Долгих игр с Techies:', len(long_techies))\n",
    "print('Долгих игр без Techies:', len(long_no_techies))"
   ]
  },
  {
   "cell_type": "code",
   "execution_count": 32,
   "metadata": {},
   "outputs": [
    {
     "name": "stdout",
     "output_type": "stream",
     "text": [
      "Доля выигранных долгих игр с Techies: 0.587\n",
      "Доля выигранных долгих игр без Techies: 0.491\n"
     ]
    }
   ],
   "source": [
    "print('Доля выигранных долгих игр с Techies: %.3f' % long_techies['victory'].mean())\n",
    "print('Доля выигранных долгих игр без Techies: %.3f' % long_no_techies['victory'].mean())\n",
    "# Получается, что в долгих играх на Techies я всё-таки скорее выиграю"
   ]
  },
  {
   "cell_type": "markdown",
   "metadata": {},
   "source": [
    "#### Третья гипотеза"
   ]
  },
  {
   "cell_type": "code",
   "execution_count": 33,
   "metadata": {},
   "outputs": [],
   "source": [
    "# Здесь нам всё-таки стоит избавить от NaN\n",
    "temp = data[data['party_size'].notna()]"
   ]
  },
  {
   "cell_type": "code",
   "execution_count": 34,
   "metadata": {},
   "outputs": [
    {
     "name": "stdout",
     "output_type": "stream",
     "text": [
      "Соло игр: 111\n",
      "Игр с друзьями: 133\n"
     ]
    }
   ],
   "source": [
    "solo = temp[temp['party_size'] == 1]\n",
    "no_solo = temp[temp['party_size'] != 1]\n",
    "\n",
    "print('Соло игр:', len(solo))\n",
    "print('Игр с друзьями:', len(no_solo))"
   ]
  },
  {
   "cell_type": "code",
   "execution_count": 35,
   "metadata": {},
   "outputs": [
    {
     "name": "stdout",
     "output_type": "stream",
     "text": [
      "Доля побед при игре одному: 0.5045\n",
      "Доля побед при игре с друзьями: 0.5038\n"
     ]
    }
   ],
   "source": [
    "print('Доля побед при игре одному:', round(solo['victory'].mean(), 4))\n",
    "print('Доля побед при игре с друзьями:', round(no_solo['victory'].mean(), 4))"
   ]
  },
  {
   "cell_type": "markdown",
   "metadata": {},
   "source": [
    "### Выводы (2)\n",
    "- H1 отклоняется, Techies не затягивает игры\n",
    "- H2 отклоняется, Techies выигрывает длинные игры\n",
    "- H3 также отклоняется, разницы между играми соло и играми в команде нет"
   ]
  }
 ],
 "metadata": {
  "kernelspec": {
   "display_name": "Python 3",
   "language": "python",
   "name": "python3"
  },
  "language_info": {
   "codemirror_mode": {
    "name": "ipython",
    "version": 3
   },
   "file_extension": ".py",
   "mimetype": "text/x-python",
   "name": "python",
   "nbconvert_exporter": "python",
   "pygments_lexer": "ipython3",
   "version": "3.8.5"
  }
 },
 "nbformat": 4,
 "nbformat_minor": 4
}
